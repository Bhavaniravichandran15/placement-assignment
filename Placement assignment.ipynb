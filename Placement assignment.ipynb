{
 "cells": [
  {
   "cell_type": "code",
   "execution_count": 48,
   "id": "f4c0dda9",
   "metadata": {},
   "outputs": [],
   "source": [
    "f=open(\"example.txt\",\"rt\")\n"
   ]
  },
  {
   "cell_type": "code",
   "execution_count": 49,
   "id": "b4a3d858",
   "metadata": {},
   "outputs": [],
   "source": [
    "x=f.read()"
   ]
  },
  {
   "cell_type": "code",
   "execution_count": 50,
   "id": "d0461ad7",
   "metadata": {},
   "outputs": [],
   "source": [
    "x=x.replace('placement','screening')"
   ]
  },
  {
   "cell_type": "code",
   "execution_count": 51,
   "id": "3d4258e6",
   "metadata": {},
   "outputs": [],
   "source": [
    "f.close()"
   ]
  },
  {
   "cell_type": "code",
   "execution_count": 52,
   "id": "4753eb1e",
   "metadata": {},
   "outputs": [],
   "source": [
    "f=open(\"example.txt\",\"wt\")\n",
    "f.write(x)\n",
    "f.close()"
   ]
  },
  {
   "cell_type": "code",
   "execution_count": null,
   "id": "96e84fdb",
   "metadata": {},
   "outputs": [],
   "source": [
    "Inheritance:\n",
    "    It will inherit the method and variable from parent to child class.\n",
    "\n",
    "Multiple inheritance:\n",
    "    it is derived from more than one base class.\n",
    "    \n",
    "class xyz:\n",
    "    def __init__(self,a,b):\n",
    "        self.a=a\n",
    "        self.b=b\n",
    "    def test(self):\n",
    "        print(\"This is a sample\")\n",
    "class xyz1:\n",
    "    def __init__(self,p,q):\n",
    "        self.p=p\n",
    "        self.q=q\n",
    "    def test1(self):\n",
    "        print(\"this is another sample statement\")\n",
    "        \n",
    "class child(xyz,xyz1)\n"
   ]
  },
  {
   "cell_type": "code",
   "execution_count": null,
   "id": "51556e1b",
   "metadata": {},
   "outputs": [],
   "source": [
    "Decorator:\n",
    "    It is a special design function so which is going to help other instances to behave as for the definition."
   ]
  },
  {
   "cell_type": "code",
   "execution_count": null,
   "id": "2cb4a792",
   "metadata": {},
   "outputs": [],
   "source": [
    "Abstract class is creating a blueprint wherever we have created a blueprint, we are trying to overwrite and predefine it.\n",
    "\n",
    "ex:\n",
    "    from abc import abstractmethod\n",
    "    class data:\n",
    "        @abstract method\n",
    "        def insert_data(self):\n",
    "            pass\n",
    "        def perform(self):\n",
    "            pass\n",
    "        "
   ]
  }
 ],
 "metadata": {
  "kernelspec": {
   "display_name": "Python 3 (ipykernel)",
   "language": "python",
   "name": "python3"
  },
  "language_info": {
   "codemirror_mode": {
    "name": "ipython",
    "version": 3
   },
   "file_extension": ".py",
   "mimetype": "text/x-python",
   "name": "python",
   "nbconvert_exporter": "python",
   "pygments_lexer": "ipython3",
   "version": "3.9.7"
  }
 },
 "nbformat": 4,
 "nbformat_minor": 5
}
